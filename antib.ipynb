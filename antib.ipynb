{
 "cells": [
  {
   "cell_type": "code",
   "execution_count": 9,
   "metadata": {},
   "outputs": [],
   "source": [
    "import numpy as np\n",
    "import pandas as pd\n",
    "import random as rd"
   ]
  },
  {
   "cell_type": "code",
   "execution_count": 161,
   "metadata": {},
   "outputs": [],
   "source": [
    "screen_size = [1000,100]\n",
    "\n",
    "len_genome = 10\n",
    "len_population = 100"
   ]
  },
  {
   "cell_type": "code",
   "execution_count": 139,
   "metadata": {},
   "outputs": [],
   "source": [
    "class Cell:\n",
    "    def __init__(self):\n",
    "        nucleotides = 'A C G T'.split()\n",
    "        self.nucleotides = nucleotides\n",
    "        genome = rd.choices(nucleotides,k = len_genome)\n",
    "        self.genome = genome\n",
    "    def mutation(self,p_mutation = [0.90,0.05,0.025,0.025]):\n",
    "        mutation_type = ['No_mutation','SNP','Del','Ins']\n",
    "        mut = rd.choices(mutation_type,weights=p_mutation)[0]\n",
    "        print(mut)\n",
    "        if mut == 'No_mutation':\n",
    "            pass\n",
    "        elif mut == 'SNP':\n",
    "            self.genome[rd.randint(0,len(self.genome))] = rd.choice(self.nucleotides)\n",
    "        elif mut == 'Del':\n",
    "            coord = sorted([rd.randint(0,len(self.genome)),rd.randint(0,len(self.genome))])\n",
    "            self.genome = self.genome[:coord[0]] + self.genome[coord[1]:]\n",
    "        elif mut == 'Ins':\n",
    "            coord = sorted([rd.randint(0,len(self.genome)),rd.randint(0,len(self.genome))])\n",
    "            self.genome += self.genome[coord[0]:coord[1]]\n"
   ]
  },
  {
   "cell_type": "code",
   "execution_count": 164,
   "metadata": {},
   "outputs": [],
   "source": [
    "class Population:\n",
    "    def __init__(self):\n",
    "        pop = [Cell() for i in range(len_population)]\n",
    "        self.pop = pop"
   ]
  },
  {
   "cell_type": "code",
   "execution_count": 165,
   "metadata": {},
   "outputs": [],
   "source": [
    "a = Population()"
   ]
  }
 ],
 "metadata": {
  "kernelspec": {
   "display_name": "Python 3",
   "language": "python",
   "name": "python3"
  },
  "language_info": {
   "codemirror_mode": {
    "name": "ipython",
    "version": 3
   },
   "file_extension": ".py",
   "mimetype": "text/x-python",
   "name": "python",
   "nbconvert_exporter": "python",
   "pygments_lexer": "ipython3",
   "version": "3.8.5"
  }
 },
 "nbformat": 4,
 "nbformat_minor": 4
}
